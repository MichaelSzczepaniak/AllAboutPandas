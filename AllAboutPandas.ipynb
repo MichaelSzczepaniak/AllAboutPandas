{
 "cells": [
  {
   "cell_type": "markdown",
   "metadata": {},
   "source": [
    "# General Pandas References\n",
    "\n",
    "1. Data School playlist: https://www.youtube.com/watch?v=yzIMircGU5I&list=PL5-da3qGB5ICCsgW1MxlZ0Hq8LL5U3u9y\n",
    "  - What do I need to know about the pandas index?: [#17, Part 1](https://www.youtube.com/watch?v=OYZNk7Z9s6I&index=17&list=PL5-da3qGB5ICCsgW1MxlZ0Hq8LL5U3u9y), [#18, Part 2](https://www.youtube.com/watch?v=15q-is8P_H4&index=18&list=PL5-da3qGB5ICCsgW1MxlZ0Hq8LL5U3u9y)\n",
    "  - How do I avoid a SettingWithCopyWarning in pandas?: [#27](https://www.youtube.com/watch?v=4R4WsDJ-KVc)\n",
    "2. Brandon Rhodes - Pandas From The Ground Up - PyCon 2015:  https://www.youtube.com/watch?v=5JnMutdy6Fw\n",
    "3. How to Create Pandas DataFrame from Series - https://www.statology.org/pandas-create-dataframe-from-series/"
   ]
  },
  {
   "cell_type": "markdown",
   "metadata": {},
   "source": []
  },
  {
   "cell_type": "code",
   "execution_count": 1,
   "metadata": {},
   "outputs": [],
   "source": [
    "import pandas as pd\n",
    "import numpy as np\n",
    "import os"
   ]
  },
  {
   "cell_type": "code",
   "execution_count": 2,
   "metadata": {},
   "outputs": [
    {
     "data": {
      "text/html": [
       "<div>\n",
       "<style scoped>\n",
       "    .dataframe tbody tr th:only-of-type {\n",
       "        vertical-align: middle;\n",
       "    }\n",
       "\n",
       "    .dataframe tbody tr th {\n",
       "        vertical-align: top;\n",
       "    }\n",
       "\n",
       "    .dataframe thead th {\n",
       "        text-align: right;\n",
       "    }\n",
       "</style>\n",
       "<table border=\"1\" class=\"dataframe\">\n",
       "  <thead>\n",
       "    <tr style=\"text-align: right;\">\n",
       "      <th></th>\n",
       "      <th>country</th>\n",
       "      <th>beer_servings</th>\n",
       "      <th>spirit_servings</th>\n",
       "      <th>wine_servings</th>\n",
       "      <th>total_litres_of_pure_alcohol</th>\n",
       "      <th>continent</th>\n",
       "    </tr>\n",
       "  </thead>\n",
       "  <tbody>\n",
       "    <tr>\n",
       "      <th>0</th>\n",
       "      <td>Afghanistan</td>\n",
       "      <td>0</td>\n",
       "      <td>0</td>\n",
       "      <td>0</td>\n",
       "      <td>0.0</td>\n",
       "      <td>Asia</td>\n",
       "    </tr>\n",
       "    <tr>\n",
       "      <th>1</th>\n",
       "      <td>Albania</td>\n",
       "      <td>89</td>\n",
       "      <td>132</td>\n",
       "      <td>54</td>\n",
       "      <td>4.9</td>\n",
       "      <td>Europe</td>\n",
       "    </tr>\n",
       "    <tr>\n",
       "      <th>2</th>\n",
       "      <td>Algeria</td>\n",
       "      <td>25</td>\n",
       "      <td>0</td>\n",
       "      <td>14</td>\n",
       "      <td>0.7</td>\n",
       "      <td>Africa</td>\n",
       "    </tr>\n",
       "    <tr>\n",
       "      <th>3</th>\n",
       "      <td>Andorra</td>\n",
       "      <td>245</td>\n",
       "      <td>138</td>\n",
       "      <td>312</td>\n",
       "      <td>12.4</td>\n",
       "      <td>Europe</td>\n",
       "    </tr>\n",
       "    <tr>\n",
       "      <th>4</th>\n",
       "      <td>Angola</td>\n",
       "      <td>217</td>\n",
       "      <td>57</td>\n",
       "      <td>45</td>\n",
       "      <td>5.9</td>\n",
       "      <td>Africa</td>\n",
       "    </tr>\n",
       "  </tbody>\n",
       "</table>\n",
       "</div>"
      ],
      "text/plain": [
       "       country  beer_servings  spirit_servings  wine_servings   \n",
       "0  Afghanistan              0                0              0  \\\n",
       "1      Albania             89              132             54   \n",
       "2      Algeria             25                0             14   \n",
       "3      Andorra            245              138            312   \n",
       "4       Angola            217               57             45   \n",
       "\n",
       "   total_litres_of_pure_alcohol continent  \n",
       "0                           0.0      Asia  \n",
       "1                           4.9    Europe  \n",
       "2                           0.7    Africa  \n",
       "3                          12.4    Europe  \n",
       "4                           5.9    Africa  "
      ]
     },
     "execution_count": 2,
     "metadata": {},
     "output_type": "execute_result"
    }
   ],
   "source": [
    "# use alcohol consumption by country example dataset\n",
    "# drinks = pd.read_csv('http://bit.ly/drinksbycountry')\n",
    "# drinks.to_csv('./datasets/drinksbycountry.csv', index = False)  # make local copy\n",
    "data_dir = \".\\\\datasets\\\\\"\n",
    "df_drinks = pd.read_csv(data_dir + \"drinksbycountry.csv\")\n",
    "df_drinks.head()"
   ]
  },
  {
   "cell_type": "markdown",
   "metadata": {},
   "source": [
    "# Accessing columns\n",
    "\n",
    "+ df[column_name] returns a pandas series of the column values\n",
    "+ df[[column_name]] returns a pandas dataframe of the columns values"
   ]
  },
  {
   "cell_type": "code",
   "execution_count": 3,
   "metadata": {},
   "outputs": [
    {
     "name": "stdout",
     "output_type": "stream",
     "text": [
      "<class 'pandas.core.series.Series'>\n",
      "<class 'pandas.core.frame.DataFrame'>\n"
     ]
    }
   ],
   "source": [
    "# columns are pandas flavored series - unlike numpy series\n",
    "print(type(df_drinks['wine_servings']))\n",
    "print(type(df_drinks[['wine_servings']]))"
   ]
  },
  {
   "cell_type": "markdown",
   "metadata": {},
   "source": [
    "# Filtering rows with a boolean mask - single boolean expression\n",
    "\n",
    "If you pass a boolean series with a length that is as the same as the number of columns into the square brackets `[]`, pandas assumes that this is a filter and will return a new dataframe where the rows were True. The next few cells illustrate this idea."
   ]
  },
  {
   "cell_type": "code",
   "execution_count": 4,
   "metadata": {},
   "outputs": [
    {
     "data": {
      "text/plain": [
       "<Axes: >"
      ]
     },
     "execution_count": 4,
     "metadata": {},
     "output_type": "execute_result"
    },
    {
     "data": {
      "image/png": "[encoded data removed]",
      "text/plain": [
       "<Figure size 640x480 with 1 Axes>"
      ]
     },
     "metadata": {},
     "output_type": "display_data"
    }
   ],
   "source": [
    "# quick look at the distribution of wine servings\n",
    "df_drinks['wine_servings'].hist()"
   ]
  },
  {
   "cell_type": "code",
   "execution_count": 5,
   "metadata": {},
   "outputs": [
    {
     "data": {
      "text/plain": [
       "0      False\n",
       "1       True\n",
       "2      False\n",
       "3       True\n",
       "4      False\n",
       "       ...  \n",
       "188    False\n",
       "189    False\n",
       "190    False\n",
       "191    False\n",
       "192    False\n",
       "Name: wine_servings, Length: 193, dtype: bool"
      ]
     },
     "execution_count": 5,
     "metadata": {},
     "output_type": "execute_result"
    }
   ],
   "source": [
    "# a boolean mask with a single boolean expression works fine: e.g. wine_servings > 50\n",
    "wine_servings_gt50 = df_drinks['wine_servings'] > 50\n",
    "# print(type(wine_servings_gt50))  # pandas.core.series.Series\n",
    "wine_servings_gt50"
   ]
  },
  {
   "cell_type": "code",
   "execution_count": 6,
   "metadata": {},
   "outputs": [
    {
     "data": {
      "text/plain": [
       "(55, 6)"
      ]
     },
     "execution_count": 6,
     "metadata": {},
     "output_type": "execute_result"
    }
   ],
   "source": [
    "# apply the mask by passing it into the brackets\n",
    "df_drinks_wine_gt50 = df_drinks[wine_servings_gt50]\n",
    "df_drinks_wine_gt50.shape  # little under a third of the rows remain"
   ]
  },
  {
   "cell_type": "code",
   "execution_count": 7,
   "metadata": {},
   "outputs": [
    {
     "data": {
      "text/plain": [
       "(55, 6)"
      ]
     },
     "execution_count": 7,
     "metadata": {},
     "output_type": "execute_result"
    }
   ],
   "source": [
    "# or you can just put the expression directly into the brackets and get the same result\n",
    "df_drinks[df_drinks['wine_servings'] > 50].shape"
   ]
  },
  {
   "cell_type": "markdown",
   "metadata": {},
   "source": [
    "## The mask used for filtering rows must be same length as the number of dataframe rows"
   ]
  },
  {
   "cell_type": "code",
   "execution_count": 8,
   "metadata": {},
   "outputs": [],
   "source": [
    "# If you try to pass a boolean mask that is smaller than the number of total rows, you get an error\n",
    "test_mask = np.array([True, False, False, True])\n",
    "# df_drinks_small_mask = df_drinks[test_mask]\n",
    "# df_drinks_small_mask  # ValueError: Item wrong length 4 instead of 193."
   ]
  },
  {
   "cell_type": "markdown",
   "metadata": {},
   "source": [
    "# Filtering with boolean mask - compound boolean expression\n",
    "\n",
    "Using the expression `df_drinks['wine_servings'] > 50` works fine, but if you try a compound expression as shown in the next cell, you get an error because the regular python `and` was not designed as a vectorized operation:"
   ]
  },
  {
   "cell_type": "code",
   "execution_count": 9,
   "metadata": {},
   "outputs": [
    {
     "ename": "ValueError",
     "evalue": "The truth value of a Series is ambiguous. Use a.empty, a.bool(), a.item(), a.any() or a.all().",
     "output_type": "error",
     "traceback": [
      "\u001b[1;31m---------------------------------------------------------------------------\u001b[0m",
      "\u001b[1;31mValueError\u001b[0m                                Traceback (most recent call last)",
      "\u001b[1;32m~\\AppData\\Local\\Temp\\ipykernel_2884\\1194134122.py\u001b[0m in \u001b[0;36m?\u001b[1;34m()\u001b[0m\n\u001b[1;32m----> 3\u001b[1;33m \u001b[1;31m# The next line looks like it should work, but it throws the error:\u001b[0m\u001b[1;33m\u001b[0m\u001b[1;33m\u001b[0m\u001b[1;33m\u001b[0m\u001b[0m\n\u001b[0m\u001b[0;32m      4\u001b[0m \u001b[1;31m# ValueError: The truth value of a Series is ambiguous\u001b[0m\u001b[1;33m\u001b[0m\u001b[1;33m\u001b[0m\u001b[1;33m\u001b[0m\u001b[0m\n\u001b[0;32m      5\u001b[0m \u001b[0mdf_drinks\u001b[0m\u001b[1;33m[\u001b[0m\u001b[0mdf_drinks\u001b[0m\u001b[1;33m[\u001b[0m\u001b[1;34m'wine_servings'\u001b[0m\u001b[1;33m]\u001b[0m \u001b[1;33m>\u001b[0m \u001b[1;36m50\u001b[0m \u001b[1;32mand\u001b[0m \u001b[0mdf_drinks\u001b[0m\u001b[1;33m[\u001b[0m\u001b[1;34m'wine_servings'\u001b[0m\u001b[1;33m]\u001b[0m \u001b[1;33m<\u001b[0m \u001b[1;36m200\u001b[0m\u001b[1;33m]\u001b[0m\u001b[1;33m\u001b[0m\u001b[1;33m\u001b[0m\u001b[0m\n",
      "\u001b[1;32mC:\\apps\\Python\\Python38\\lib\\site-packages\\pandas\\core\\generic.py\u001b[0m in \u001b[0;36m?\u001b[1;34m(self)\u001b[0m\n\u001b[0;32m   1464\u001b[0m     \u001b[1;33m@\u001b[0m\u001b[0mfinal\u001b[0m\u001b[1;33m\u001b[0m\u001b[1;33m\u001b[0m\u001b[0m\n\u001b[0;32m   1465\u001b[0m     \u001b[1;32mdef\u001b[0m \u001b[0m__nonzero__\u001b[0m\u001b[1;33m(\u001b[0m\u001b[0mself\u001b[0m\u001b[1;33m)\u001b[0m \u001b[1;33m->\u001b[0m \u001b[0mNoReturn\u001b[0m\u001b[1;33m:\u001b[0m\u001b[1;33m\u001b[0m\u001b[1;33m\u001b[0m\u001b[0m\n\u001b[1;32m-> 1466\u001b[1;33m         raise ValueError(\n\u001b[0m\u001b[0;32m   1467\u001b[0m             \u001b[1;34mf\"The truth value of a {type(self).__name__} is ambiguous. \"\u001b[0m\u001b[1;33m\u001b[0m\u001b[1;33m\u001b[0m\u001b[0m\n\u001b[0;32m   1468\u001b[0m             \u001b[1;34m\"Use a.empty, a.bool(), a.item(), a.any() or a.all().\"\u001b[0m\u001b[1;33m\u001b[0m\u001b[1;33m\u001b[0m\u001b[0m\n\u001b[0;32m   1469\u001b[0m         )\n",
      "\u001b[1;31mValueError\u001b[0m: The truth value of a Series is ambiguous. Use a.empty, a.bool(), a.item(), a.any() or a.all()."
     ]
    }
   ],
   "source": [
    "# The next line looks like it should work, but it throws the error:\n",
    "# ValueError: The truth value of a Series is ambiguous. Use a.empty, a.bool(), a.item(), a.any() or a.all().\n",
    "# df_drinks[df_drinks['wine_servings'] > 50 and df_drinks['wine_servings'] < 200]"
   ]
  },
  {
   "cell_type": "markdown",
   "metadata": {},
   "source": [
    "## A couple of ways to create compound boolean masks\n",
    "\n",
    "1. We can use np.logical_xxx functions (e.g. **np.logical_and**, **np.logical_or**, etc.)\n",
    "2. We can use the bitwise AND operator with () wrapping each boolean expression"
   ]
  },
  {
   "cell_type": "code",
   "execution_count": 11,
   "metadata": {},
   "outputs": [
    {
     "data": {
      "text/html": [
       "<div>\n",
       "<style scoped>\n",
       "    .dataframe tbody tr th:only-of-type {\n",
       "        vertical-align: middle;\n",
       "    }\n",
       "\n",
       "    .dataframe tbody tr th {\n",
       "        vertical-align: top;\n",
       "    }\n",
       "\n",
       "    .dataframe thead th {\n",
       "        text-align: right;\n",
       "    }\n",
       "</style>\n",
       "<table border=\"1\" class=\"dataframe\">\n",
       "  <thead>\n",
       "    <tr style=\"text-align: right;\">\n",
       "      <th></th>\n",
       "      <th>country</th>\n",
       "      <th>beer_servings</th>\n",
       "      <th>spirit_servings</th>\n",
       "      <th>wine_servings</th>\n",
       "      <th>total_litres_of_pure_alcohol</th>\n",
       "      <th>continent</th>\n",
       "    </tr>\n",
       "  </thead>\n",
       "  <tbody>\n",
       "    <tr>\n",
       "      <th>1</th>\n",
       "      <td>Albania</td>\n",
       "      <td>89</td>\n",
       "      <td>132</td>\n",
       "      <td>54</td>\n",
       "      <td>4.9</td>\n",
       "      <td>Europe</td>\n",
       "    </tr>\n",
       "    <tr>\n",
       "      <th>9</th>\n",
       "      <td>Austria</td>\n",
       "      <td>279</td>\n",
       "      <td>75</td>\n",
       "      <td>191</td>\n",
       "      <td>9.7</td>\n",
       "      <td>Europe</td>\n",
       "    </tr>\n",
       "    <tr>\n",
       "      <th>11</th>\n",
       "      <td>Bahamas</td>\n",
       "      <td>122</td>\n",
       "      <td>176</td>\n",
       "      <td>51</td>\n",
       "      <td>6.3</td>\n",
       "      <td>North America</td>\n",
       "    </tr>\n",
       "    <tr>\n",
       "      <th>25</th>\n",
       "      <td>Bulgaria</td>\n",
       "      <td>231</td>\n",
       "      <td>252</td>\n",
       "      <td>94</td>\n",
       "      <td>10.3</td>\n",
       "      <td>Europe</td>\n",
       "    </tr>\n",
       "    <tr>\n",
       "      <th>32</th>\n",
       "      <td>Canada</td>\n",
       "      <td>240</td>\n",
       "      <td>122</td>\n",
       "      <td>100</td>\n",
       "      <td>8.2</td>\n",
       "      <td>North America</td>\n",
       "    </tr>\n",
       "  </tbody>\n",
       "</table>\n",
       "</div>"
      ],
      "text/plain": [
       "     country  beer_servings  spirit_servings  wine_servings   \n",
       "1    Albania             89              132             54  \\\n",
       "9    Austria            279               75            191   \n",
       "11   Bahamas            122              176             51   \n",
       "25  Bulgaria            231              252             94   \n",
       "32    Canada            240              122            100   \n",
       "\n",
       "    total_litres_of_pure_alcohol      continent  \n",
       "1                            4.9         Europe  \n",
       "9                            9.7         Europe  \n",
       "11                           6.3  North America  \n",
       "25                          10.3         Europe  \n",
       "32                           8.2  North America  "
      ]
     },
     "execution_count": 11,
     "metadata": {},
     "output_type": "execute_result"
    }
   ],
   "source": [
    "# The first way: using the numpy vectorized AND\n",
    "compound_mask = np.logical_and(df_drinks['wine_servings'] > 50, df_drinks['wine_servings'] < 200)\n",
    "# compound_mask.shape  # (193,)\n",
    "df_drinks[compound_mask].head()"
   ]
  },
  {
   "cell_type": "code",
   "execution_count": 12,
   "metadata": {},
   "outputs": [
    {
     "data": {
      "text/html": [
       "<div>\n",
       "<style scoped>\n",
       "    .dataframe tbody tr th:only-of-type {\n",
       "        vertical-align: middle;\n",
       "    }\n",
       "\n",
       "    .dataframe tbody tr th {\n",
       "        vertical-align: top;\n",
       "    }\n",
       "\n",
       "    .dataframe thead th {\n",
       "        text-align: right;\n",
       "    }\n",
       "</style>\n",
       "<table border=\"1\" class=\"dataframe\">\n",
       "  <thead>\n",
       "    <tr style=\"text-align: right;\">\n",
       "      <th></th>\n",
       "      <th>country</th>\n",
       "      <th>beer_servings</th>\n",
       "      <th>spirit_servings</th>\n",
       "      <th>wine_servings</th>\n",
       "      <th>total_litres_of_pure_alcohol</th>\n",
       "      <th>continent</th>\n",
       "    </tr>\n",
       "  </thead>\n",
       "  <tbody>\n",
       "    <tr>\n",
       "      <th>1</th>\n",
       "      <td>Albania</td>\n",
       "      <td>89</td>\n",
       "      <td>132</td>\n",
       "      <td>54</td>\n",
       "      <td>4.9</td>\n",
       "      <td>Europe</td>\n",
       "    </tr>\n",
       "    <tr>\n",
       "      <th>9</th>\n",
       "      <td>Austria</td>\n",
       "      <td>279</td>\n",
       "      <td>75</td>\n",
       "      <td>191</td>\n",
       "      <td>9.7</td>\n",
       "      <td>Europe</td>\n",
       "    </tr>\n",
       "    <tr>\n",
       "      <th>11</th>\n",
       "      <td>Bahamas</td>\n",
       "      <td>122</td>\n",
       "      <td>176</td>\n",
       "      <td>51</td>\n",
       "      <td>6.3</td>\n",
       "      <td>North America</td>\n",
       "    </tr>\n",
       "    <tr>\n",
       "      <th>25</th>\n",
       "      <td>Bulgaria</td>\n",
       "      <td>231</td>\n",
       "      <td>252</td>\n",
       "      <td>94</td>\n",
       "      <td>10.3</td>\n",
       "      <td>Europe</td>\n",
       "    </tr>\n",
       "    <tr>\n",
       "      <th>32</th>\n",
       "      <td>Canada</td>\n",
       "      <td>240</td>\n",
       "      <td>122</td>\n",
       "      <td>100</td>\n",
       "      <td>8.2</td>\n",
       "      <td>North America</td>\n",
       "    </tr>\n",
       "  </tbody>\n",
       "</table>\n",
       "</div>"
      ],
      "text/plain": [
       "     country  beer_servings  spirit_servings  wine_servings   \n",
       "1    Albania             89              132             54  \\\n",
       "9    Austria            279               75            191   \n",
       "11   Bahamas            122              176             51   \n",
       "25  Bulgaria            231              252             94   \n",
       "32    Canada            240              122            100   \n",
       "\n",
       "    total_litres_of_pure_alcohol      continent  \n",
       "1                            4.9         Europe  \n",
       "9                            9.7         Europe  \n",
       "11                           6.3  North America  \n",
       "25                          10.3         Europe  \n",
       "32                           8.2  North America  "
      ]
     },
     "execution_count": 12,
     "metadata": {},
     "output_type": "execute_result"
    }
   ],
   "source": [
    "# The second way: using the bitwise AND - wrapping with () IS REQUIRED because of & precedence\n",
    "compound_mask2 = (df_drinks['wine_servings'] > 50) & (df_drinks['wine_servings'] < 200)\n",
    "#compound_mask2.shape  # (193,)\n",
    "df_drinks[compound_mask2].head()"
   ]
  },
  {
   "cell_type": "code",
   "execution_count": null,
   "metadata": {},
   "outputs": [],
   "source": []
  },
  {
   "cell_type": "code",
   "execution_count": 15,
   "metadata": {},
   "outputs": [
    {
     "name": "stdout",
     "output_type": "stream",
     "text": [
      "<class 'list'>\n"
     ]
    },
    {
     "data": {
      "text/plain": [
       "[376, 361, 347, 346, 343]"
      ]
     },
     "execution_count": 15,
     "metadata": {},
     "output_type": "execute_result"
    }
   ],
   "source": [
    "print(type(sorted(df_drinks['beer_servings'], reverse=True)))  # list\n",
    "# return a list of sorted beer serving values\n",
    "beer_servings_list = sorted(df_drinks['beer_servings'], reverse=True)  # reverse = False is default, ascending order\n",
    "beer_servings_list[:5]"
   ]
  },
  {
   "cell_type": "code",
   "execution_count": null,
   "metadata": {},
   "outputs": [],
   "source": []
  },
  {
   "cell_type": "markdown",
   "metadata": {},
   "source": [
    "## Create a new column for existing columns"
   ]
  },
  {
   "cell_type": "code",
   "execution_count": null,
   "metadata": {},
   "outputs": [],
   "source": [
    "df_drinks['total_servings'] = df_drinks['beer_servings'] + df_drinks['spirit_servings'] + \\\n",
    "                              df_drinks['wine_servings']\n",
    "df_drinks.head()"
   ]
  },
  {
   "cell_type": "markdown",
   "metadata": {},
   "source": [
    "### Does a column in a pandas data frame have to have the same type?\n",
    "\n",
    "Let's try to create data frame with columns that are not the same type."
   ]
  },
  {
   "cell_type": "code",
   "execution_count": null,
   "metadata": {},
   "outputs": [],
   "source": [
    "# create an list to as as the index\n",
    "my_index = [\"row\" + str(i) for i in range(0, 10)]\n",
    "# create a list to use as a column\n",
    "my_pandas_list1 = [1, 1.1, \"one\", 2, 2.2, \"two\", 3, 3.3, \"three\", 3.4]\n",
    "my_pandas_list2 = [4, 4.2, \"four\", 5, 5.3, \"five\", 6, 6.4, \"three\", 6.5]\n",
    "my_pandas_list3 = [7, 7.3, \"seven\", 8, 8.4, \"eight\", 9, 9.5, \"three\", 9.6]\n",
    "my_pandas_series1 = pd.Series(my_pandas_list1)\n",
    "my_pandas_series2 = pd.Series(my_pandas_list2)\n",
    "my_pandas_series3 = pd.Series(my_pandas_list3)\n",
    "print(my_pandas_list1)\n",
    "print(type(my_pandas_list1))\n",
    "print(my_pandas_series1)\n",
    "print(type(my_pandas_series1))\n",
    "print(type(my_pandas_series1[0]))\n",
    "print(type(my_pandas_series1[1]))\n",
    "print(type(my_pandas_series1[2]))"
   ]
  },
  {
   "cell_type": "markdown",
   "metadata": {},
   "source": [
    "Looks like we can create pandas series that contain different data types. Can we create a dataframe from series containing different types? The next two cells seems answer *yes*."
   ]
  },
  {
   "cell_type": "code",
   "execution_count": null,
   "metadata": {},
   "outputs": [],
   "source": [
    "df_from_cols = pd.concat([my_pandas_series1, my_pandas_series2, my_pandas_series3], axis=1)\n",
    "df_from_cols"
   ]
  },
  {
   "cell_type": "markdown",
   "metadata": {},
   "source": [
    "## Changing column names\n",
    "\n",
    "Use the `.rename()` method and pass a dict to the `columns` parameter:"
   ]
  },
  {
   "cell_type": "code",
   "execution_count": null,
   "metadata": {},
   "outputs": [],
   "source": [
    "# change column names\n",
    "df_from_cols.rename(columns = {0: \"col0\", 1: \"col1\", 2: \"col2\"})"
   ]
  },
  {
   "cell_type": "markdown",
   "metadata": {},
   "source": [
    "## Pandas is a little strange in how it accesses data\n",
    "\n",
    "+ df[*some_integer*] - Pandas interprets *some_integer* as a column index. E.g. df[0] returns column 0 of the dataframe\n",
    "+ df[*column_name*] - this will throw a *key_error*"
   ]
  },
  {
   "cell_type": "code",
   "execution_count": null,
   "metadata": {},
   "outputs": [],
   "source": [
    "df_from_cols[0]"
   ]
  },
  {
   "cell_type": "code",
   "execution_count": null,
   "metadata": {},
   "outputs": [],
   "source": [
    "df_from_cols['col1']"
   ]
  },
  {
   "cell_type": "code",
   "execution_count": null,
   "metadata": {},
   "outputs": [],
   "source": []
  },
  {
   "cell_type": "code",
   "execution_count": null,
   "metadata": {},
   "outputs": [],
   "source": []
  },
  {
   "cell_type": "code",
   "execution_count": null,
   "metadata": {},
   "outputs": [],
   "source": []
  },
  {
   "cell_type": "code",
   "execution_count": null,
   "metadata": {},
   "outputs": [],
   "source": []
  },
  {
   "cell_type": "code",
   "execution_count": null,
   "metadata": {},
   "outputs": [],
   "source": []
  },
  {
   "cell_type": "markdown",
   "metadata": {},
   "source": [
    "## Filtering using `.loc[]` property (not a method as seen in many online postings)\n",
    "\n",
    "general syntax (image take from https://www.sharpsightlabs.com/blog/pandas-loc/)\n",
    "\n",
    "<img src=\"datasets/pandas-loc-syntax-explanation.png\">\n",
    "\n",
    "### column label is optional\n",
    "\n",
    "If you don't pass a column label, all the columns will be reteived by default."
   ]
  },
  {
   "cell_type": "code",
   "execution_count": null,
   "metadata": {},
   "outputs": [],
   "source": []
  },
  {
   "cell_type": "code",
   "execution_count": null,
   "metadata": {},
   "outputs": [],
   "source": []
  },
  {
   "cell_type": "code",
   "execution_count": null,
   "metadata": {},
   "outputs": [],
   "source": []
  },
  {
   "cell_type": "code",
   "execution_count": null,
   "metadata": {},
   "outputs": [],
   "source": []
  },
  {
   "cell_type": "markdown",
   "metadata": {},
   "source": [
    "## How to use the index"
   ]
  },
  {
   "cell_type": "code",
   "execution_count": null,
   "metadata": {},
   "outputs": [],
   "source": [
    "# try to print the index\n",
    "print(df_drinks.index)"
   ]
  },
  {
   "cell_type": "code",
   "execution_count": null,
   "metadata": {},
   "outputs": [],
   "source": [
    "# we could put the index values into a list which we can print\n",
    "# print([i for i in drinks.index])"
   ]
  },
  {
   "cell_type": "markdown",
   "metadata": {},
   "source": [
    "## Things to know about the index\n",
    "\n",
    "+ Every dataframe has an index (not optional)\n",
    "+ aka *row labels*\n",
    "+ Index and columns default to integers if they aren't specified\n",
    "\n",
    "### Three reasons why the index exists\n",
    "\n",
    "1. Identification - \n",
    "2. Selection - \n",
    "3. Alignment - "
   ]
  },
  {
   "cell_type": "code",
   "execution_count": null,
   "metadata": {},
   "outputs": [],
   "source": [
    "drinks.columns  # \"Index\" here is the type of object, not \"the index\""
   ]
  },
  {
   "cell_type": "code",
   "execution_count": null,
   "metadata": {},
   "outputs": [],
   "source": [
    "# Note that the index and the columns headers are NOT part of the dataframe\n",
    "drinks.shape"
   ]
  },
  {
   "cell_type": "code",
   "execution_count": null,
   "metadata": {},
   "outputs": [],
   "source": [
    "\n",
    "\n",
    "dir_list = os.listdir(data_path)\n",
    "# print all the files in directory\n",
    "print(dir_list)"
   ]
  },
  {
   "cell_type": "code",
   "execution_count": null,
   "metadata": {},
   "outputs": [],
   "source": [
    "# data_file_path = data_path + \"\\\\movie_user.psv\"\n",
    "# pd.read_table(data_file_path, header=None, sep='|').head()  # index and columns default to integers"
   ]
  },
  {
   "cell_type": "markdown",
   "metadata": {},
   "source": [
    "# Filter by []"
   ]
  },
  {
   "cell_type": "code",
   "execution_count": null,
   "metadata": {},
   "outputs": [],
   "source": [
    "# \"1. Identification\"\n",
    "drinks[drinks['continent']=='South America']  # note the row labels stayed with the selected rows"
   ]
  },
  {
   "cell_type": "markdown",
   "metadata": {},
   "source": [
    "## Using `.loc[]` property\n",
    "\n"
   ]
  },
  {
   "cell_type": "code",
   "execution_count": null,
   "metadata": {},
   "outputs": [],
   "source": [
    "# reference url in previous cell\n",
    "country_data_dict = {\n",
    "    'country':['USA', 'China', 'Japan', 'Germany', 'UK', 'India']\n",
    "    ,'continent':['North America','Asia','Asia','Europe','Europe','Asia']\n",
    "    ,'GDP':[19390604, 12237700, 4872137, 3677439, 2622434, 2597491]\n",
    "    ,'population':[322179605, 1403500365, 127748513, 81914672, 65788574, 1324171354]\n",
    "}\n",
    "\n",
    "df_countries = pd.DataFrame(country_data_dict)\n",
    "df_countries"
   ]
  },
  {
   "cell_type": "code",
   "execution_count": null,
   "metadata": {},
   "outputs": [],
   "source": [
    "# using row label and column label\n",
    "df_countries.loc[1, \"country\"]"
   ]
  },
  {
   "cell_type": "code",
   "execution_count": null,
   "metadata": {},
   "outputs": [],
   "source": [
    "# using just a row label returns a pandas series object\n",
    "print(df_countries.loc[1])\n",
    "print(type(df_countries.loc[1]))"
   ]
  },
  {
   "cell_type": "code",
   "execution_count": null,
   "metadata": {},
   "outputs": [],
   "source": [
    "# passing a slice as the first arg returns pandas DataFrame\n",
    "print(df_countries.loc[1:3])\n",
    "print(type(df_countries.loc[1:3]))"
   ]
  },
  {
   "cell_type": "code",
   "execution_count": null,
   "metadata": {},
   "outputs": [],
   "source": []
  },
  {
   "cell_type": "code",
   "execution_count": null,
   "metadata": {},
   "outputs": [],
   "source": [
    "# \"2. Selection\"\n",
    "drinks.loc[23, 'beer_servings']  # row id'd by 23"
   ]
  },
  {
   "cell_type": "code",
   "execution_count": null,
   "metadata": {},
   "outputs": [],
   "source": [
    "# since each row is a unique country, we could set it to the index\n",
    "drinks.set_index('country', inplace=True)\n",
    "drinks.head()  # note position of the columns headers"
   ]
  },
  {
   "cell_type": "code",
   "execution_count": null,
   "metadata": {},
   "outputs": [],
   "source": [
    "# now it easy to get beer servings for Brazil\n",
    "drinks.loc['Brazil', 'beer_servings']"
   ]
  },
  {
   "cell_type": "code",
   "execution_count": null,
   "metadata": {},
   "outputs": [],
   "source": [
    "# you can set the name of index to something else\n",
    "drinks.index.name = \"fred\"\n",
    "drinks.head()"
   ]
  },
  {
   "cell_type": "code",
   "execution_count": null,
   "metadata": {},
   "outputs": [],
   "source": [
    "# or remove the name (not the index itself) entirely\n",
    "drinks.index.name = None\n",
    "drinks.head()"
   ]
  },
  {
   "cell_type": "code",
   "execution_count": null,
   "metadata": {},
   "outputs": [],
   "source": [
    "# move the country back in to a column\n",
    "drinks.index.name = 'country'  # start by giving the index its name back\n",
    "drinks.reset_index(inplace=True)\n",
    "drinks.head()"
   ]
  },
  {
   "cell_type": "code",
   "execution_count": null,
   "metadata": {},
   "outputs": [],
   "source": [
    "# describe method like summary function in R\n",
    "drinks.describe()"
   ]
  },
  {
   "cell_type": "code",
   "execution_count": null,
   "metadata": {},
   "outputs": [],
   "source": [
    "drinks.describe().index  # result is a data frame with an index"
   ]
  },
  {
   "cell_type": "code",
   "execution_count": null,
   "metadata": {},
   "outputs": [],
   "source": [
    "drinks.describe().loc['25%', 'beer_servings']"
   ]
  },
  {
   "cell_type": "code",
   "execution_count": null,
   "metadata": {},
   "outputs": [],
   "source": [
    "# alignment\n",
    "people = pd.Series([3000000, 85000], index=['Albania', 'Andorra'], name='population')\n",
    "people"
   ]
  },
  {
   "cell_type": "code",
   "execution_count": null,
   "metadata": {},
   "outputs": [],
   "source": [
    "# drinks.set_index('country', inplace=True)\n",
    "drinks.beer_servings * people"
   ]
  },
  {
   "cell_type": "code",
   "execution_count": null,
   "metadata": {},
   "outputs": [],
   "source": []
  },
  {
   "cell_type": "code",
   "execution_count": null,
   "metadata": {},
   "outputs": [],
   "source": []
  },
  {
   "cell_type": "code",
   "execution_count": null,
   "metadata": {},
   "outputs": [],
   "source": []
  },
  {
   "cell_type": "code",
   "execution_count": null,
   "metadata": {},
   "outputs": [],
   "source": []
  },
  {
   "cell_type": "code",
   "execution_count": null,
   "metadata": {},
   "outputs": [],
   "source": []
  },
  {
   "cell_type": "code",
   "execution_count": null,
   "metadata": {},
   "outputs": [],
   "source": []
  },
  {
   "cell_type": "code",
   "execution_count": null,
   "metadata": {},
   "outputs": [],
   "source": []
  },
  {
   "cell_type": "code",
   "execution_count": null,
   "metadata": {},
   "outputs": [],
   "source": []
  },
  {
   "cell_type": "code",
   "execution_count": null,
   "metadata": {},
   "outputs": [],
   "source": []
  },
  {
   "cell_type": "markdown",
   "metadata": {},
   "source": [
    "### Avoiding SettingWithCopyWarning in Pandas\n",
    "\n",
    "Additional References: https://tomaugspurger.github.io/modern-1-intro\n"
   ]
  },
  {
   "cell_type": "code",
   "execution_count": null,
   "metadata": {},
   "outputs": [],
   "source": [
    "import numpy as np\n",
    "\n",
    "\n",
    "movies = pd.read_csv('https://raw.githubusercontent.com/MichaelSzczepaniak/AllAboutPandas/master/datasets/imdb_1000.csv')\n",
    "movies.head()"
   ]
  },
  {
   "cell_type": "code",
   "execution_count": null,
   "metadata": {},
   "outputs": [],
   "source": [
    "# A good habit to get into is to look for NULL values.  Calling the\n",
    "# isnull() method on the content_rating column returns another series:\n",
    "movies['content_rating'].isnull().head()"
   ]
  },
  {
   "cell_type": "markdown",
   "metadata": {},
   "source": [
    "In R, columns are **vectors**.  In pandas, columns are **series**.  Boolean vectors and series are treated similarly in both languages in that:\n",
    "\n",
    "+ TRUE (R) = True (Python) = 1\n",
    "+ FALSE (R) = False (Python) = 0\n",
    "\n",
    "So if sum the values, we'll get count of NULLs in the series:"
   ]
  },
  {
   "cell_type": "code",
   "execution_count": null,
   "metadata": {},
   "outputs": [],
   "source": [
    "movies.content_rating.isnull().sum()"
   ]
  },
  {
   "cell_type": "markdown",
   "metadata": {},
   "source": [
    "Which rows are these NULL values in?  Since the `isnull()` method returns a boolean series, we can find the NULLs using:"
   ]
  },
  {
   "cell_type": "code",
   "execution_count": null,
   "metadata": {},
   "outputs": [],
   "source": [
    "movies[movies['content_rating'].isnull()]"
   ]
  },
  {
   "cell_type": "markdown",
   "metadata": {},
   "source": [
    "where **NaN** is used by panadas to designate missing values.  In R, we could get the unique values by doing `unique(movies$content_rating)`.  In pandas, we call the [unique method on the dataframe object](https://pandas.pydata.org/pandas-docs/stable/generated/pandas.Series.unique.html) like this:"
   ]
  },
  {
   "cell_type": "code",
   "execution_count": null,
   "metadata": {},
   "outputs": [],
   "source": [
    "movies['content_rating'].unique()"
   ]
  },
  {
   "cell_type": "markdown",
   "metadata": {},
   "source": [
    "If we wanted the counts of each rating, in R we'd do `table(movies$content_rating)`.  In pandas, we can call the `value_counts()` **method** on the dataframe object like this:"
   ]
  },
  {
   "cell_type": "code",
   "execution_count": null,
   "metadata": {},
   "outputs": [],
   "source": [
    "movies['content_rating'].value_counts()"
   ]
  },
  {
   "cell_type": "markdown",
   "metadata": {},
   "source": [
    "We want to consider all the _NOT RATED_ entries as a missing values.  Which row are the _NOT RATED_ values in?"
   ]
  },
  {
   "cell_type": "code",
   "execution_count": null,
   "metadata": {},
   "outputs": [],
   "source": [
    "movies[movies['content_rating'] == 'NOT RATED'].head()"
   ]
  },
  {
   "cell_type": "markdown",
   "metadata": {},
   "source": [
    "Get the series of _NOT RATED_ and overwrite them with `numpy.nan` and this will generate a `SettingWithCopyWarning`:"
   ]
  },
  {
   "cell_type": "code",
   "execution_count": null,
   "metadata": {},
   "outputs": [],
   "source": [
    "movies[movies['content_rating'] == 'NOT RATED']['content_rating'] = np.nan  # ~ 4\" 35\"' of video"
   ]
  },
  {
   "cell_type": "markdown",
   "metadata": {},
   "source": [
    "This isn't an error.  It's a warning.  But we don't know if the `NaN` values actually got replaced or not, so we need to check to see if the operation was done:"
   ]
  },
  {
   "cell_type": "code",
   "execution_count": null,
   "metadata": {},
   "outputs": [],
   "source": [
    "movies['content_rating'].isnull().sum()"
   ]
  },
  {
   "cell_type": "markdown",
   "metadata": {},
   "source": [
    "We would have expected this to be 68 if the operation completed as we exected.  Since we got our original results (3), it did not execute as we expected.  This shows why this check is important because under other circumstances, the operation **will** complete.\n",
    "\n",
    "Notice the hint in the warning message: `Try using .loc[row_indexer,col_indexer] = value instead`\n",
    "Let's try taking this advice and seeing what happens:"
   ]
  },
  {
   "cell_type": "code",
   "execution_count": null,
   "metadata": {},
   "outputs": [],
   "source": [
    "movies.loc[movies['content_rating'] == 'NOT RATED', 'content_rating'] = np.nan\n",
    "movies['content_rating'].isnull().sum()"
   ]
  },
  {
   "cell_type": "markdown",
   "metadata": {},
   "source": [
    "Looks like it worked.  For a good reference on how `.loc` works, [try this link](https://www.youtube.com/watch?v=xvpNA7bC8cs).\n",
    "\n",
    "### What is going on with this warning?\n",
    "\n",
    "(~6\" 40\"' into [the video](https://www.youtube.com/watch?v=4R4WsDJ-KVc)) Start by realizing that the line that generated the error:  \n",
    "\n",
    "`movies[movies['content_rating'] == 'NOT RATED']`  \n",
    "\n",
    "is actually **2** operations.\n",
    "\n",
    "The first part:  `movies[movies['content_rating'] == 'NOT RATED']`  \n",
    "is a _**get** item_ operation.  \n",
    "\n",
    "The second part:  `...['content_rating'] = np.nan` or `....content_rating = np.nan`  \n",
    "is a _**set** item_ operation.\n",
    "\n",
    "The problem is that pandas can't gaurantee that the **get** operation returned a **view** or **copy** of the data.  If a **view** was returned, it would effect the dataframe.  If a **copy** was returned, it would not effect the original dataframe (because it would change the copy).  The warning is generated because pandas was not sure what happened (whether a view or copy was returned), so it's warning the user about this uncertainty.\n",
    "\n",
    "### Why did .loc() fix this issue?\n",
    "\n",
    "It did so by turning the line that generated the warning from 2 operations (get and set) to a single **set** operation.  The moral of this story is: If you are trying to select rows and columns in the **same** line of code, use the **.loc()** method.\n",
    "\n",
    "This is one of the ways to deal with this warning, but it is not the only way.  As mentioned earlier, this warning can be generated from a variety of circumstances.  Let's look at another way this warning comes up."
   ]
  },
  {
   "cell_type": "code",
   "execution_count": null,
   "metadata": {},
   "outputs": [],
   "source": [
    "top_movies = movies.loc[movies['star_rating'] >= 9, :]  # all the movies with star_rating >= 9, all the rows (:)"
   ]
  },
  {
   "cell_type": "code",
   "execution_count": null,
   "metadata": {},
   "outputs": [],
   "source": [
    "top_movies"
   ]
  },
  {
   "cell_type": "markdown",
   "metadata": {},
   "source": [
    "Say we want to change a value in this dataframe.  For example, change duration from 142 to 150 for *The Shawshank Redemption*."
   ]
  },
  {
   "cell_type": "code",
   "execution_count": null,
   "metadata": {},
   "outputs": [],
   "source": [
    "top_movies.loc[0, 'duration'] = 150"
   ]
  },
  {
   "cell_type": "markdown",
   "metadata": {},
   "source": [
    "There it is again!  But as we'll see, it being generated for a different reason this time.  As before, let's check to see if the operation completed as expected."
   ]
  },
  {
   "cell_type": "code",
   "execution_count": null,
   "metadata": {},
   "outputs": [],
   "source": [
    "top_movies"
   ]
  },
  {
   "cell_type": "markdown",
   "metadata": {},
   "source": [
    "Unlike the earlier example, the operation **did** complete this time.\n",
    "\n",
    "### What is causing the warning to be generated this time?\n",
    "\n",
    "Similar to the explanation in the previous example, panadas was not sure whether **top_movies** is a **copy** of the _movies_ dataframe (which it is) or a **view** on the _movies_ dataframe.\n",
    "\n",
    "### So how do we fix this situation?\n",
    "\n",
    "The line that generated the error this time: `movies.loc[0, 'duration'] = 150` was **not** the one actually causing the problem.  To fix this issue, we need to be explicitly clear that we are operating on a **copy** of the _movies_ dataframe and we can do that by using the **.copy()** method."
   ]
  },
  {
   "cell_type": "code",
   "execution_count": null,
   "metadata": {},
   "outputs": [],
   "source": [
    "top_movies = movies.loc[movies['star_rating'] >= 9, :].copy()\n",
    "top_movies.loc[0, 'duration'] = 150\n",
    "top_movies  # no warning this time!"
   ]
  },
  {
   "cell_type": "markdown",
   "metadata": {},
   "source": [
    "### How to deal with SettingWithCopyWarning Summary\n",
    "\n",
    "1. If you are trying to select rows and columns in the **same** line of code, use the **.loc()** method.\n",
    "2. If you want to operate on a copy of dataframe, explicitly use the **.copy()** method to create the dataframe which you will be manipulating."
   ]
  },
  {
   "cell_type": "code",
   "execution_count": null,
   "metadata": {},
   "outputs": [],
   "source": []
  },
  {
   "cell_type": "code",
   "execution_count": null,
   "metadata": {},
   "outputs": [],
   "source": []
  }
 ],
 "metadata": {
  "kernelspec": {
   "display_name": "Python 3 (ipykernel)",
   "language": "python",
   "name": "python3"
  },
  "language_info": {
   "codemirror_mode": {
    "name": "ipython",
    "version": 3
   },
   "file_extension": ".py",
   "mimetype": "text/x-python",
   "name": "python",
   "nbconvert_exporter": "python",
   "pygments_lexer": "ipython3",
   "version": "3.8.10"
  }
 },
 "nbformat": 4,
 "nbformat_minor": 2
}
